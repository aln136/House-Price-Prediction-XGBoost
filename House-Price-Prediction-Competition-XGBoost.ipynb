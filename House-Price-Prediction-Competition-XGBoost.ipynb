{
 "cells": [
  {
   "cell_type": "markdown",
   "id": "13462148",
   "metadata": {
    "papermill": {
     "duration": 0.00622,
     "end_time": "2024-08-27T22:26:18.433629",
     "exception": false,
     "start_time": "2024-08-27T22:26:18.427409",
     "status": "completed"
    },
    "tags": []
   },
   "source": [
    "# House Price Prediction with XGBoost | Numerical Data Only Version\n",
    "\n",
    "\n",
    "This notebook demonstrates the application of XGBoost regression to the House Prices Dataset. The goal is to create a model that accurately predicts house prices by preprocessing numerical features, handling missing values, and evaluating model performance through cross-validation.\n",
    "\n",
    "\n",
    "Link: https://www.kaggle.com/competitions/house-prices-advanced-regression-techniques"
   ]
  },
  {
   "cell_type": "code",
   "execution_count": 1,
   "id": "b5bbffad",
   "metadata": {
    "_cell_guid": "b1076dfc-b9ad-4769-8c92-a6c4dae69d19",
    "_uuid": "8f2839f25d086af736a60e9eeb907d3b93b6e0e5",
    "execution": {
     "iopub.execute_input": "2024-08-27T22:26:18.446844Z",
     "iopub.status.busy": "2024-08-27T22:26:18.446430Z",
     "iopub.status.idle": "2024-08-27T22:26:21.304199Z",
     "shell.execute_reply": "2024-08-27T22:26:21.303223Z"
    },
    "papermill": {
     "duration": 2.867355,
     "end_time": "2024-08-27T22:26:21.306721",
     "exception": false,
     "start_time": "2024-08-27T22:26:18.439366",
     "status": "completed"
    },
    "tags": []
   },
   "outputs": [],
   "source": [
    "import numpy as np\n",
    "import pandas as pd\n",
    "import matplotlib.pyplot as plt\n",
    "import seaborn as sns\n",
    "from sklearn.pipeline import Pipeline\n",
    "from sklearn.impute import SimpleImputer\n",
    "from xgboost import XGBRegressor\n",
    "from sklearn.metrics import mean_squared_error\n",
    "from sklearn.compose import ColumnTransformer\n",
    "from sklearn.preprocessing import StandardScaler\n",
    "from sklearn.model_selection import cross_val_score"
   ]
  },
  {
   "cell_type": "markdown",
   "id": "7aa60ebc",
   "metadata": {
    "papermill": {
     "duration": 0.005501,
     "end_time": "2024-08-27T22:26:21.318845",
     "exception": false,
     "start_time": "2024-08-27T22:26:21.313344",
     "status": "completed"
    },
    "tags": []
   },
   "source": [
    "### Load training dataset into pd Dataframe"
   ]
  },
  {
   "cell_type": "code",
   "execution_count": 2,
   "id": "ec1e84b2",
   "metadata": {
    "execution": {
     "iopub.execute_input": "2024-08-27T22:26:21.332244Z",
     "iopub.status.busy": "2024-08-27T22:26:21.331155Z",
     "iopub.status.idle": "2024-08-27T22:26:21.412481Z",
     "shell.execute_reply": "2024-08-27T22:26:21.411400Z"
    },
    "papermill": {
     "duration": 0.090484,
     "end_time": "2024-08-27T22:26:21.414843",
     "exception": false,
     "start_time": "2024-08-27T22:26:21.324359",
     "status": "completed"
    },
    "tags": []
   },
   "outputs": [
    {
     "data": {
      "text/html": [
       "<div>\n",
       "<style scoped>\n",
       "    .dataframe tbody tr th:only-of-type {\n",
       "        vertical-align: middle;\n",
       "    }\n",
       "\n",
       "    .dataframe tbody tr th {\n",
       "        vertical-align: top;\n",
       "    }\n",
       "\n",
       "    .dataframe thead th {\n",
       "        text-align: right;\n",
       "    }\n",
       "</style>\n",
       "<table border=\"1\" class=\"dataframe\">\n",
       "  <thead>\n",
       "    <tr style=\"text-align: right;\">\n",
       "      <th></th>\n",
       "      <th>MSSubClass</th>\n",
       "      <th>MSZoning</th>\n",
       "      <th>LotFrontage</th>\n",
       "      <th>LotArea</th>\n",
       "      <th>Street</th>\n",
       "      <th>Alley</th>\n",
       "      <th>LotShape</th>\n",
       "      <th>LandContour</th>\n",
       "      <th>Utilities</th>\n",
       "      <th>LotConfig</th>\n",
       "      <th>...</th>\n",
       "      <th>PoolArea</th>\n",
       "      <th>PoolQC</th>\n",
       "      <th>Fence</th>\n",
       "      <th>MiscFeature</th>\n",
       "      <th>MiscVal</th>\n",
       "      <th>MoSold</th>\n",
       "      <th>YrSold</th>\n",
       "      <th>SaleType</th>\n",
       "      <th>SaleCondition</th>\n",
       "      <th>SalePrice</th>\n",
       "    </tr>\n",
       "    <tr>\n",
       "      <th>Id</th>\n",
       "      <th></th>\n",
       "      <th></th>\n",
       "      <th></th>\n",
       "      <th></th>\n",
       "      <th></th>\n",
       "      <th></th>\n",
       "      <th></th>\n",
       "      <th></th>\n",
       "      <th></th>\n",
       "      <th></th>\n",
       "      <th></th>\n",
       "      <th></th>\n",
       "      <th></th>\n",
       "      <th></th>\n",
       "      <th></th>\n",
       "      <th></th>\n",
       "      <th></th>\n",
       "      <th></th>\n",
       "      <th></th>\n",
       "      <th></th>\n",
       "      <th></th>\n",
       "    </tr>\n",
       "  </thead>\n",
       "  <tbody>\n",
       "    <tr>\n",
       "      <th>1</th>\n",
       "      <td>60</td>\n",
       "      <td>RL</td>\n",
       "      <td>65.0</td>\n",
       "      <td>8450</td>\n",
       "      <td>Pave</td>\n",
       "      <td>NaN</td>\n",
       "      <td>Reg</td>\n",
       "      <td>Lvl</td>\n",
       "      <td>AllPub</td>\n",
       "      <td>Inside</td>\n",
       "      <td>...</td>\n",
       "      <td>0</td>\n",
       "      <td>NaN</td>\n",
       "      <td>NaN</td>\n",
       "      <td>NaN</td>\n",
       "      <td>0</td>\n",
       "      <td>2</td>\n",
       "      <td>2008</td>\n",
       "      <td>WD</td>\n",
       "      <td>Normal</td>\n",
       "      <td>208500</td>\n",
       "    </tr>\n",
       "    <tr>\n",
       "      <th>2</th>\n",
       "      <td>20</td>\n",
       "      <td>RL</td>\n",
       "      <td>80.0</td>\n",
       "      <td>9600</td>\n",
       "      <td>Pave</td>\n",
       "      <td>NaN</td>\n",
       "      <td>Reg</td>\n",
       "      <td>Lvl</td>\n",
       "      <td>AllPub</td>\n",
       "      <td>FR2</td>\n",
       "      <td>...</td>\n",
       "      <td>0</td>\n",
       "      <td>NaN</td>\n",
       "      <td>NaN</td>\n",
       "      <td>NaN</td>\n",
       "      <td>0</td>\n",
       "      <td>5</td>\n",
       "      <td>2007</td>\n",
       "      <td>WD</td>\n",
       "      <td>Normal</td>\n",
       "      <td>181500</td>\n",
       "    </tr>\n",
       "    <tr>\n",
       "      <th>3</th>\n",
       "      <td>60</td>\n",
       "      <td>RL</td>\n",
       "      <td>68.0</td>\n",
       "      <td>11250</td>\n",
       "      <td>Pave</td>\n",
       "      <td>NaN</td>\n",
       "      <td>IR1</td>\n",
       "      <td>Lvl</td>\n",
       "      <td>AllPub</td>\n",
       "      <td>Inside</td>\n",
       "      <td>...</td>\n",
       "      <td>0</td>\n",
       "      <td>NaN</td>\n",
       "      <td>NaN</td>\n",
       "      <td>NaN</td>\n",
       "      <td>0</td>\n",
       "      <td>9</td>\n",
       "      <td>2008</td>\n",
       "      <td>WD</td>\n",
       "      <td>Normal</td>\n",
       "      <td>223500</td>\n",
       "    </tr>\n",
       "    <tr>\n",
       "      <th>4</th>\n",
       "      <td>70</td>\n",
       "      <td>RL</td>\n",
       "      <td>60.0</td>\n",
       "      <td>9550</td>\n",
       "      <td>Pave</td>\n",
       "      <td>NaN</td>\n",
       "      <td>IR1</td>\n",
       "      <td>Lvl</td>\n",
       "      <td>AllPub</td>\n",
       "      <td>Corner</td>\n",
       "      <td>...</td>\n",
       "      <td>0</td>\n",
       "      <td>NaN</td>\n",
       "      <td>NaN</td>\n",
       "      <td>NaN</td>\n",
       "      <td>0</td>\n",
       "      <td>2</td>\n",
       "      <td>2006</td>\n",
       "      <td>WD</td>\n",
       "      <td>Abnorml</td>\n",
       "      <td>140000</td>\n",
       "    </tr>\n",
       "    <tr>\n",
       "      <th>5</th>\n",
       "      <td>60</td>\n",
       "      <td>RL</td>\n",
       "      <td>84.0</td>\n",
       "      <td>14260</td>\n",
       "      <td>Pave</td>\n",
       "      <td>NaN</td>\n",
       "      <td>IR1</td>\n",
       "      <td>Lvl</td>\n",
       "      <td>AllPub</td>\n",
       "      <td>FR2</td>\n",
       "      <td>...</td>\n",
       "      <td>0</td>\n",
       "      <td>NaN</td>\n",
       "      <td>NaN</td>\n",
       "      <td>NaN</td>\n",
       "      <td>0</td>\n",
       "      <td>12</td>\n",
       "      <td>2008</td>\n",
       "      <td>WD</td>\n",
       "      <td>Normal</td>\n",
       "      <td>250000</td>\n",
       "    </tr>\n",
       "  </tbody>\n",
       "</table>\n",
       "<p>5 rows × 80 columns</p>\n",
       "</div>"
      ],
      "text/plain": [
       "    MSSubClass MSZoning  LotFrontage  LotArea Street Alley LotShape  \\\n",
       "Id                                                                    \n",
       "1           60       RL         65.0     8450   Pave   NaN      Reg   \n",
       "2           20       RL         80.0     9600   Pave   NaN      Reg   \n",
       "3           60       RL         68.0    11250   Pave   NaN      IR1   \n",
       "4           70       RL         60.0     9550   Pave   NaN      IR1   \n",
       "5           60       RL         84.0    14260   Pave   NaN      IR1   \n",
       "\n",
       "   LandContour Utilities LotConfig  ... PoolArea PoolQC Fence MiscFeature  \\\n",
       "Id                                  ...                                     \n",
       "1          Lvl    AllPub    Inside  ...        0    NaN   NaN         NaN   \n",
       "2          Lvl    AllPub       FR2  ...        0    NaN   NaN         NaN   \n",
       "3          Lvl    AllPub    Inside  ...        0    NaN   NaN         NaN   \n",
       "4          Lvl    AllPub    Corner  ...        0    NaN   NaN         NaN   \n",
       "5          Lvl    AllPub       FR2  ...        0    NaN   NaN         NaN   \n",
       "\n",
       "   MiscVal MoSold  YrSold  SaleType  SaleCondition  SalePrice  \n",
       "Id                                                             \n",
       "1        0      2    2008        WD         Normal     208500  \n",
       "2        0      5    2007        WD         Normal     181500  \n",
       "3        0      9    2008        WD         Normal     223500  \n",
       "4        0      2    2006        WD        Abnorml     140000  \n",
       "5        0     12    2008        WD         Normal     250000  \n",
       "\n",
       "[5 rows x 80 columns]"
      ]
     },
     "execution_count": 2,
     "metadata": {},
     "output_type": "execute_result"
    }
   ],
   "source": [
    "training_data_path = \"/kaggle/input/house-prices-advanced-regression-techniques/train.csv\"\n",
    "df_full = pd.read_csv(training_data_path, index_col=0)\n",
    "df_full.head()"
   ]
  },
  {
   "cell_type": "code",
   "execution_count": 3,
   "id": "59b7f162",
   "metadata": {
    "execution": {
     "iopub.execute_input": "2024-08-27T22:26:21.428393Z",
     "iopub.status.busy": "2024-08-27T22:26:21.428008Z",
     "iopub.status.idle": "2024-08-27T22:26:21.437108Z",
     "shell.execute_reply": "2024-08-27T22:26:21.436030Z"
    },
    "papermill": {
     "duration": 0.018569,
     "end_time": "2024-08-27T22:26:21.439504",
     "exception": false,
     "start_time": "2024-08-27T22:26:21.420935",
     "status": "completed"
    },
    "tags": []
   },
   "outputs": [
    {
     "name": "stdout",
     "output_type": "stream",
     "text": [
      "['MSSubClass', 'LotFrontage', 'LotArea', 'OverallQual', 'OverallCond', 'YearBuilt', 'YearRemodAdd', 'MasVnrArea', 'BsmtFinSF1', 'BsmtFinSF2', 'BsmtUnfSF', 'TotalBsmtSF', '1stFlrSF', '2ndFlrSF', 'LowQualFinSF', 'GrLivArea', 'BsmtFullBath', 'BsmtHalfBath', 'FullBath', 'HalfBath', 'BedroomAbvGr', 'KitchenAbvGr', 'TotRmsAbvGrd', 'Fireplaces', 'GarageYrBlt', 'GarageCars', 'GarageArea', 'WoodDeckSF', 'OpenPorchSF', 'EnclosedPorch', '3SsnPorch', 'ScreenPorch', 'PoolArea', 'MiscVal', 'MoSold', 'YrSold', 'SalePrice']\n"
     ]
    }
   ],
   "source": [
    "target='SalePrice'\n",
    "cat_cols = [col for col in df_full.columns if df_full[col].dtype==\"object\"]\n",
    "num_cols = [col for col in df_full.columns if col not in cat_cols]\n",
    "print(num_cols)"
   ]
  },
  {
   "cell_type": "markdown",
   "id": "98456a44",
   "metadata": {
    "papermill": {
     "duration": 0.005729,
     "end_time": "2024-08-27T22:26:21.451337",
     "exception": false,
     "start_time": "2024-08-27T22:26:21.445608",
     "status": "completed"
    },
    "tags": []
   },
   "source": [
    "### Numerical Data : Low Correlation\n",
    "Drop columns with minimal correlation (less than 0.35) to Sale Price"
   ]
  },
  {
   "cell_type": "code",
   "execution_count": 4,
   "id": "3e78e0f6",
   "metadata": {
    "execution": {
     "iopub.execute_input": "2024-08-27T22:26:21.465033Z",
     "iopub.status.busy": "2024-08-27T22:26:21.464690Z",
     "iopub.status.idle": "2024-08-27T22:26:22.138425Z",
     "shell.execute_reply": "2024-08-27T22:26:22.137106Z"
    },
    "papermill": {
     "duration": 0.68398,
     "end_time": "2024-08-27T22:26:22.141262",
     "exception": false,
     "start_time": "2024-08-27T22:26:21.457282",
     "status": "completed"
    },
    "tags": []
   },
   "outputs": [
    {
     "data": {
      "image/png": "[encoded data removed]",
      "text/plain": [
       "<Figure size 3000x300 with 2 Axes>"
      ]
     },
     "metadata": {},
     "output_type": "display_data"
    }
   ],
   "source": [
    "# Calculate the correlation matrix\n",
    "corr_matrix = df_full[num_cols].corr()\n",
    "\n",
    "# Extract the correlation of 'Sale Price' with all other columns\n",
    "corr_target = corr_matrix[[target]].sort_values(by=target, ascending=False)\n",
    "\n",
    "# Transpose for easier visualization\n",
    "corr_target = corr_target.T\n",
    "\n",
    "# Plot the heatmap\n",
    "plt.figure(figsize=(30, 3))\n",
    "sns.heatmap(corr_target, annot=True, cmap='coolwarm', center=0)\n",
    "plt.title(f'Correlation of {target} with Other Features')\n",
    "plt.show()"
   ]
  },
  {
   "cell_type": "code",
   "execution_count": 5,
   "id": "b2c5284a",
   "metadata": {
    "execution": {
     "iopub.execute_input": "2024-08-27T22:26:22.158131Z",
     "iopub.status.busy": "2024-08-27T22:26:22.157755Z",
     "iopub.status.idle": "2024-08-27T22:26:22.164812Z",
     "shell.execute_reply": "2024-08-27T22:26:22.163676Z"
    },
    "papermill": {
     "duration": 0.018461,
     "end_time": "2024-08-27T22:26:22.167412",
     "exception": false,
     "start_time": "2024-08-27T22:26:22.148951",
     "status": "completed"
    },
    "tags": []
   },
   "outputs": [
    {
     "name": "stdout",
     "output_type": "stream",
     "text": [
      "Low correlation columns to be dropped later:\n",
      "['WoodDeckSF', '2ndFlrSF', 'OpenPorchSF', 'HalfBath', 'LotArea', 'BsmtFullBath', 'BsmtUnfSF', 'BedroomAbvGr', 'ScreenPorch', 'PoolArea', 'MoSold', '3SsnPorch', 'BsmtFinSF2', 'BsmtHalfBath', 'MiscVal', 'LowQualFinSF', 'YrSold', 'OverallCond', 'MSSubClass', 'EnclosedPorch', 'KitchenAbvGr']\n"
     ]
    }
   ],
   "source": [
    "# Find features with little to no correlation to Sale Price\n",
    "corr_target = corr_matrix[target]\n",
    "\n",
    "# Sort the correlations and get the column names\n",
    "sorted_columns = corr_target.sort_values(ascending=False).index.tolist()\n",
    "\n",
    "# Display low correlation column names to drop\n",
    "low_corr_cols = sorted_columns[16:]\n",
    "print(\"Low correlation columns to be dropped later:\")\n",
    "print(low_corr_cols)"
   ]
  },
  {
   "cell_type": "markdown",
   "id": "7bd3bd2e",
   "metadata": {
    "papermill": {
     "duration": 0.007483,
     "end_time": "2024-08-27T22:26:22.183184",
     "exception": false,
     "start_time": "2024-08-27T22:26:22.175701",
     "status": "completed"
    },
    "tags": []
   },
   "source": [
    "### Numerical Columns: Missing Data\n",
    "Drop sparsely populated columns (>50% empty)\n",
    "\n",
    "(None)"
   ]
  },
  {
   "cell_type": "code",
   "execution_count": 6,
   "id": "f8cf412b",
   "metadata": {
    "execution": {
     "iopub.execute_input": "2024-08-27T22:26:22.200198Z",
     "iopub.status.busy": "2024-08-27T22:26:22.199824Z",
     "iopub.status.idle": "2024-08-27T22:26:22.214565Z",
     "shell.execute_reply": "2024-08-27T22:26:22.213234Z"
    },
    "papermill": {
     "duration": 0.026339,
     "end_time": "2024-08-27T22:26:22.217202",
     "exception": false,
     "start_time": "2024-08-27T22:26:22.190863",
     "status": "completed"
    },
    "tags": []
   },
   "outputs": [
    {
     "name": "stdout",
     "output_type": "stream",
     "text": [
      "Numerical columns with at leat one null value entry:\n",
      "18.0% empty,\t259 null,\tLotFrontage\n",
      "1.0% empty,\t8 null,\tMasVnrArea\n",
      "6.0% empty,\t81 null,\tGarageYrBlt\n"
     ]
    },
    {
     "data": {
      "text/plain": [
       "[]"
      ]
     },
     "execution_count": 6,
     "metadata": {},
     "output_type": "execute_result"
    }
   ],
   "source": [
    "# Find # of empty entries per column\n",
    "sparse_cols=[]\n",
    "\n",
    "print(f\"Numerical columns with at leat one null value entry:\")\n",
    "for col in num_cols:\n",
    "    num_null = df_full[col].isna().sum()\n",
    "    \n",
    "    if num_null: # Print out all cols with at least one null\n",
    "        percent_empty = num_null/df_full.shape[0]\n",
    "        print(f\"{round(percent_empty, 2)*100}% empty,\\t{num_null} null,\\t{col}\")\n",
    "        \n",
    "        if percent_empty > 0.5: # Drop all columns more than 50% empty\n",
    "            sparse_cols.append(col)\n",
    "\n",
    "sparse_cols"
   ]
  },
  {
   "cell_type": "markdown",
   "id": "494fb45f",
   "metadata": {
    "papermill": {
     "duration": 0.00772,
     "end_time": "2024-08-27T22:26:22.232820",
     "exception": false,
     "start_time": "2024-08-27T22:26:22.225100",
     "status": "completed"
    },
    "tags": []
   },
   "source": [
    "### Categorical Columns: Missing Data\n",
    "Drop sparsely populated columns (>50% empty)"
   ]
  },
  {
   "cell_type": "code",
   "execution_count": 7,
   "id": "7033b085",
   "metadata": {
    "execution": {
     "iopub.execute_input": "2024-08-27T22:26:22.250698Z",
     "iopub.status.busy": "2024-08-27T22:26:22.249999Z",
     "iopub.status.idle": "2024-08-27T22:26:22.265415Z",
     "shell.execute_reply": "2024-08-27T22:26:22.264252Z"
    },
    "papermill": {
     "duration": 0.027105,
     "end_time": "2024-08-27T22:26:22.267941",
     "exception": false,
     "start_time": "2024-08-27T22:26:22.240836",
     "status": "completed"
    },
    "tags": []
   },
   "outputs": [
    {
     "name": "stdout",
     "output_type": "stream",
     "text": [
      "(1460, 80)\n",
      "Sparse categorical columns to be dropped later:\n",
      "94.0% empty,\t1369 null,\tAlley\n",
      "60.0% empty,\t872 null,\tMasVnrType\n",
      "100.0% empty,\t1453 null,\tPoolQC\n",
      "81.0% empty,\t1179 null,\tFence\n",
      "96.0% empty,\t1406 null,\tMiscFeature\n"
     ]
    }
   ],
   "source": [
    "# Find # of empty entries per column\n",
    "print(df_full.shape)\n",
    "sparse_cols=[]\n",
    "\n",
    "print(f\"Sparse categorical columns to be dropped later:\")\n",
    "for col in cat_cols:\n",
    "    num_null = df_full[col].isna().sum()\n",
    "    \n",
    "    if num_null: # Print out all cols with at least one null\n",
    "        percent_empty = num_null/df_full.shape[0]\n",
    "        \n",
    "        if percent_empty > 0.5: # Drop all columns more than 50% empty\n",
    "            print(f\"{round(percent_empty, 2)*100}% empty,\\t{num_null} null,\\t{col}\")\n",
    "            sparse_cols.append(col)"
   ]
  },
  {
   "cell_type": "code",
   "execution_count": 8,
   "id": "ee58c30e",
   "metadata": {
    "execution": {
     "iopub.execute_input": "2024-08-27T22:26:22.285583Z",
     "iopub.status.busy": "2024-08-27T22:26:22.285193Z",
     "iopub.status.idle": "2024-08-27T22:26:22.293007Z",
     "shell.execute_reply": "2024-08-27T22:26:22.292003Z"
    },
    "papermill": {
     "duration": 0.019415,
     "end_time": "2024-08-27T22:26:22.295328",
     "exception": false,
     "start_time": "2024-08-27T22:26:22.275913",
     "status": "completed"
    },
    "tags": []
   },
   "outputs": [
    {
     "name": "stdout",
     "output_type": "stream",
     "text": [
      "Dropping columns...\n",
      "Done\n"
     ]
    }
   ],
   "source": [
    "# Drop columns\n",
    "print(\"Dropping columns...\")\n",
    "df = df_full.drop(low_corr_cols+sparse_cols, axis=1)\n",
    "print(\"Done\")\n",
    "\n",
    "new_num_cols = [col for col in num_cols if col not in low_corr_cols]\n",
    "new_cat_cols = [col for col in cat_cols if col not in sparse_cols]"
   ]
  },
  {
   "cell_type": "markdown",
   "id": "7e154117",
   "metadata": {
    "papermill": {
     "duration": 0.008452,
     "end_time": "2024-08-27T22:26:22.311769",
     "exception": false,
     "start_time": "2024-08-27T22:26:22.303317",
     "status": "completed"
    },
    "tags": []
   },
   "source": [
    "### Train Test Split"
   ]
  },
  {
   "cell_type": "code",
   "execution_count": 9,
   "id": "1e091c11",
   "metadata": {
    "execution": {
     "iopub.execute_input": "2024-08-27T22:26:22.329985Z",
     "iopub.status.busy": "2024-08-27T22:26:22.329032Z",
     "iopub.status.idle": "2024-08-27T22:26:22.342261Z",
     "shell.execute_reply": "2024-08-27T22:26:22.341224Z"
    },
    "papermill": {
     "duration": 0.024864,
     "end_time": "2024-08-27T22:26:22.344548",
     "exception": false,
     "start_time": "2024-08-27T22:26:22.319684",
     "status": "completed"
    },
    "tags": []
   },
   "outputs": [
    {
     "data": {
      "text/plain": [
       "(292, 15)"
      ]
     },
     "execution_count": 9,
     "metadata": {},
     "output_type": "execute_result"
    }
   ],
   "source": [
    "from sklearn.model_selection import train_test_split\n",
    "df_num = df.drop(new_cat_cols, axis=1) # Reduce df to numerical columns only\n",
    "\n",
    "X = df_num.drop(target, axis=1)\n",
    "y = df_num[target]\n",
    "\n",
    "X_train, X_valid, y_train, y_valid = train_test_split(X, y, test_size=0.2, random_state=1)\n",
    "X_valid.shape"
   ]
  },
  {
   "cell_type": "markdown",
   "id": "42cc31af",
   "metadata": {
    "papermill": {
     "duration": 0.008092,
     "end_time": "2024-08-27T22:26:22.360909",
     "exception": false,
     "start_time": "2024-08-27T22:26:22.352817",
     "status": "completed"
    },
    "tags": []
   },
   "source": [
    "### Create Imputers in Preprocessor"
   ]
  },
  {
   "cell_type": "code",
   "execution_count": 10,
   "id": "a0b9afc2",
   "metadata": {
    "execution": {
     "iopub.execute_input": "2024-08-27T22:26:22.379939Z",
     "iopub.status.busy": "2024-08-27T22:26:22.378942Z",
     "iopub.status.idle": "2024-08-27T22:26:22.385593Z",
     "shell.execute_reply": "2024-08-27T22:26:22.384423Z"
    },
    "papermill": {
     "duration": 0.018831,
     "end_time": "2024-08-27T22:26:22.388145",
     "exception": false,
     "start_time": "2024-08-27T22:26:22.369314",
     "status": "completed"
    },
    "tags": []
   },
   "outputs": [],
   "source": [
    "# Define imputers\n",
    "lot_frontage_imputer = SimpleImputer(strategy='median')\n",
    "mas_vnr_area_imputer = SimpleImputer(strategy='median')\n",
    "garage_yr_blt_imputer = SimpleImputer(strategy='median')\n",
    "\n",
    "# Create a preprocessing pipeline\n",
    "preprocessor = ColumnTransformer(\n",
    "    transformers=[\n",
    "        ('lot_frontage', lot_frontage_imputer, ['LotFrontage']),\n",
    "        ('mas_vnr_area', mas_vnr_area_imputer, ['MasVnrArea']),\n",
    "        ('garage_yr_blt', garage_yr_blt_imputer, ['GarageYrBlt'])\n",
    "    ],\n",
    "    remainder='passthrough') # keep the unprocessed columns as they are"
   ]
  },
  {
   "cell_type": "markdown",
   "id": "efbd73f4",
   "metadata": {
    "papermill": {
     "duration": 0.008082,
     "end_time": "2024-08-27T22:26:22.404528",
     "exception": false,
     "start_time": "2024-08-27T22:26:22.396446",
     "status": "completed"
    },
    "tags": []
   },
   "source": [
    "### Build and Configure XGBoost Pipeline"
   ]
  },
  {
   "cell_type": "code",
   "execution_count": 11,
   "id": "201d001f",
   "metadata": {
    "execution": {
     "iopub.execute_input": "2024-08-27T22:26:22.422623Z",
     "iopub.status.busy": "2024-08-27T22:26:22.422232Z",
     "iopub.status.idle": "2024-08-27T22:26:22.427770Z",
     "shell.execute_reply": "2024-08-27T22:26:22.426659Z"
    },
    "papermill": {
     "duration": 0.01721,
     "end_time": "2024-08-27T22:26:22.429968",
     "exception": false,
     "start_time": "2024-08-27T22:26:22.412758",
     "status": "completed"
    },
    "tags": []
   },
   "outputs": [],
   "source": [
    "model = XGBRegressor()\n",
    "\n",
    "my_pipeline = Pipeline(steps=[\n",
    "    ('preprocessor', preprocessor),\n",
    "    ('scaler', StandardScaler()), # Scaler after preprocessor to ensure imputed values are scaled\n",
    "    ('model', model)\n",
    "])"
   ]
  },
  {
   "cell_type": "markdown",
   "id": "013f7c70",
   "metadata": {
    "papermill": {
     "duration": 0.008109,
     "end_time": "2024-08-27T22:26:22.446434",
     "exception": false,
     "start_time": "2024-08-27T22:26:22.438325",
     "status": "completed"
    },
    "tags": []
   },
   "source": [
    "### Evaluate Model using Cross Validation"
   ]
  },
  {
   "cell_type": "code",
   "execution_count": 12,
   "id": "0c89fd41",
   "metadata": {
    "execution": {
     "iopub.execute_input": "2024-08-27T22:26:22.464796Z",
     "iopub.status.busy": "2024-08-27T22:26:22.464087Z",
     "iopub.status.idle": "2024-08-27T22:26:23.555547Z",
     "shell.execute_reply": "2024-08-27T22:26:23.554483Z"
    },
    "papermill": {
     "duration": 1.103507,
     "end_time": "2024-08-27T22:26:23.558195",
     "exception": false,
     "start_time": "2024-08-27T22:26:22.454688",
     "status": "completed"
    },
    "tags": []
   },
   "outputs": [
    {
     "name": "stdout",
     "output_type": "stream",
     "text": [
      "Average RMSLE: 0.15586804180315145\n"
     ]
    }
   ],
   "source": [
    "scores = -1 * cross_val_score(my_pipeline, X_train, y_train,\n",
    "                              cv=5,\n",
    "                              scoring='neg_mean_squared_log_error')\n",
    "\n",
    "print(f\"Average RMSLE: {np.sqrt(scores.mean())}\")"
   ]
  },
  {
   "cell_type": "markdown",
   "id": "d7724631",
   "metadata": {
    "papermill": {
     "duration": 0.008386,
     "end_time": "2024-08-27T22:26:23.575392",
     "exception": false,
     "start_time": "2024-08-27T22:26:23.567006",
     "status": "completed"
    },
    "tags": []
   },
   "source": [
    "### Submission"
   ]
  },
  {
   "cell_type": "code",
   "execution_count": 13,
   "id": "80e74c32",
   "metadata": {
    "execution": {
     "iopub.execute_input": "2024-08-27T22:26:23.593334Z",
     "iopub.status.busy": "2024-08-27T22:26:23.592934Z",
     "iopub.status.idle": "2024-08-27T22:26:23.622895Z",
     "shell.execute_reply": "2024-08-27T22:26:23.621716Z"
    },
    "papermill": {
     "duration": 0.042236,
     "end_time": "2024-08-27T22:26:23.625772",
     "exception": false,
     "start_time": "2024-08-27T22:26:23.583536",
     "status": "completed"
    },
    "tags": []
   },
   "outputs": [],
   "source": [
    "# Import test data\n",
    "test_data_path = '/kaggle/input/house-prices-advanced-regression-techniques/test.csv'\n",
    "df_test_full = pd.read_csv(test_data_path, index_col=0)"
   ]
  },
  {
   "cell_type": "code",
   "execution_count": 14,
   "id": "a81cb5f8",
   "metadata": {
    "execution": {
     "iopub.execute_input": "2024-08-27T22:26:23.644200Z",
     "iopub.status.busy": "2024-08-27T22:26:23.643813Z",
     "iopub.status.idle": "2024-08-27T22:26:23.651393Z",
     "shell.execute_reply": "2024-08-27T22:26:23.650510Z"
    },
    "papermill": {
     "duration": 0.019353,
     "end_time": "2024-08-27T22:26:23.653618",
     "exception": false,
     "start_time": "2024-08-27T22:26:23.634265",
     "status": "completed"
    },
    "tags": []
   },
   "outputs": [],
   "source": [
    "# Preprocess test data\n",
    "df_test = df_test_full.drop(low_corr_cols+sparse_cols, axis=1)\n",
    "df_test_num = df_test.drop(new_cat_cols, axis=1)"
   ]
  },
  {
   "cell_type": "code",
   "execution_count": 15,
   "id": "be825dfd",
   "metadata": {
    "execution": {
     "iopub.execute_input": "2024-08-27T22:26:23.677275Z",
     "iopub.status.busy": "2024-08-27T22:26:23.676147Z",
     "iopub.status.idle": "2024-08-27T22:26:23.910936Z",
     "shell.execute_reply": "2024-08-27T22:26:23.909879Z"
    },
    "papermill": {
     "duration": 0.248238,
     "end_time": "2024-08-27T22:26:23.913602",
     "exception": false,
     "start_time": "2024-08-27T22:26:23.665364",
     "status": "completed"
    },
    "tags": []
   },
   "outputs": [],
   "source": [
    "# Generate csv file for submission\n",
    "my_pipeline.fit(X,y)\n",
    "test_preds = my_pipeline.predict(df_test_full)\n",
    "\n",
    "output = pd.DataFrame({'Id': df_test.index,\n",
    "                      'SalePrice': test_preds})\n",
    "\n",
    "output.to_csv('submission.csv', index=False)"
   ]
  }
 ],
 "metadata": {
  "kaggle": {
   "accelerator": "none",
   "dataSources": [
    {
     "databundleVersionId": 868283,
     "sourceId": 5407,
     "sourceType": "competition"
    }
   ],
   "dockerImageVersionId": 30746,
   "isGpuEnabled": false,
   "isInternetEnabled": false,
   "language": "python",
   "sourceType": "notebook"
  },
  "kernelspec": {
   "display_name": "Python 3",
   "language": "python",
   "name": "python3"
  },
  "language_info": {
   "codemirror_mode": {
    "name": "ipython",
    "version": 3
   },
   "file_extension": ".py",
   "mimetype": "text/x-python",
   "name": "python",
   "nbconvert_exporter": "python",
   "pygments_lexer": "ipython3",
   "version": "3.10.13"
  },
  "papermill": {
   "default_parameters": {},
   "duration": 9.299211,
   "end_time": "2024-08-27T22:26:24.543184",
   "environment_variables": {},
   "exception": null,
   "input_path": "__notebook__.ipynb",
   "output_path": "__notebook__.ipynb",
   "parameters": {},
   "start_time": "2024-08-27T22:26:15.243973",
   "version": "2.5.0"
  }
 },
 "nbformat": 4,
 "nbformat_minor": 5
}
